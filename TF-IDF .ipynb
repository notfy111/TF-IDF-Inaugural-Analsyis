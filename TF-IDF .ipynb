{
 "cells": [
  {
   "cell_type": "code",
   "execution_count": 1,
   "metadata": {},
   "outputs": [],
   "source": [
    "import re\n",
    "import pandas as pd\n",
    "\n",
    "import nltk\n",
    "from nltk.corpus import stopwords\n",
    "from nltk.corpus import inaugural"
   ]
  },
  {
   "cell_type": "code",
   "execution_count": 2,
   "metadata": {},
   "outputs": [],
   "source": [
    "tokenizer = nltk.data.load('tokenizers/punkt/english.pickle')\n",
    "\n",
    "porter    = nltk.PorterStemmer()\n",
    "lancaster = nltk.LancasterStemmer()\n",
    "wnl       = nltk.WordNetLemmatizer()"
   ]
  },
  {
   "cell_type": "code",
   "execution_count": 3,
   "metadata": {},
   "outputs": [
    {
     "data": {
      "text/plain": [
       "['1789-Washington.txt',\n",
       " '1793-Washington.txt',\n",
       " '1797-Adams.txt',\n",
       " '1801-Jefferson.txt']"
      ]
     },
     "execution_count": 3,
     "metadata": {},
     "output_type": "execute_result"
    }
   ],
   "source": [
    "inaugural.fileids()[:4]"
   ]
  },
  {
   "cell_type": "code",
   "execution_count": 4,
   "metadata": {},
   "outputs": [
    {
     "data": {
      "text/plain": [
       "['Fellow', '-', 'Citizens', 'of', 'the', 'Senate', ...]"
      ]
     },
     "execution_count": 4,
     "metadata": {},
     "output_type": "execute_result"
    }
   ],
   "source": [
    "inaugural.words(inaugural.fileids()[0])"
   ]
  },
  {
   "cell_type": "code",
   "execution_count": 5,
   "metadata": {},
   "outputs": [],
   "source": [
    "stop_words = set(stopwords.words('english'))"
   ]
  },
  {
   "cell_type": "markdown",
   "metadata": {},
   "source": [
    "### 1. Stopwords\n",
    "\n",
    "\n",
    "Remove all punctuation and strange unicode characters, and anything else think might be extraneous"
   ]
  },
  {
   "cell_type": "code",
   "execution_count": 6,
   "metadata": {
    "scrolled": false
   },
   "outputs": [],
   "source": [
    "# update the stop words\n",
    "stop_words.update(['.','[',']','(',')',',','-',':','?','!','/', '...',';','$','\"','.)',':\"','\\'','--',\"[]!\\#$%&'()*+,\\-./:;<=>?@\\[\\\\\\]^_‘{|}~\",\"0123456789\"])"
   ]
  },
  {
   "cell_type": "markdown",
   "metadata": {},
   "source": [
    "---\n",
    "### 2. Read each inaugural address into an Pandas DataFrame"
   ]
  },
  {
   "cell_type": "markdown",
   "metadata": {},
   "source": [
    "**2.1 Create a vocabulary as a set of all unique stemmed terms in the corpus**"
   ]
  },
  {
   "cell_type": "code",
   "execution_count": 7,
   "metadata": {},
   "outputs": [],
   "source": [
    "vocab = set()"
   ]
  },
  {
   "cell_type": "code",
   "execution_count": 8,
   "metadata": {},
   "outputs": [],
   "source": [
    "# creating vocab\n",
    "sizedict = {}\n",
    "for i in inaugural.fileids():\n",
    "    sizedict[i]=0\n",
    "    for j in inaugural.words(i): \n",
    "        list_word = list(j)\n",
    "        for char in list_word:\n",
    "            if ord(char) > 127:\n",
    "                stop_words.update(j)\n",
    "        if j not in stop_words:\n",
    "            vocab.add(lancaster.stem(j))\n",
    "            sizedict[i]+=1"
   ]
  },
  {
   "cell_type": "code",
   "execution_count": 9,
   "metadata": {
    "scrolled": true
   },
   "outputs": [
    {
     "data": {
      "text/plain": [
       "4602"
      ]
     },
     "execution_count": 9,
     "metadata": {},
     "output_type": "execute_result"
    }
   ],
   "source": [
    "len(vocab)"
   ]
  },
  {
   "cell_type": "markdown",
   "metadata": {},
   "source": [
    "**2.2 Use  vocabulary to read each inaugural address into a dataframe**"
   ]
  },
  {
   "cell_type": "code",
   "execution_count": 10,
   "metadata": {},
   "outputs": [],
   "source": [
    "#print(df)\n",
    "len(inaugural.fileids())\n",
    "df = pd.DataFrame(index = inaugural.fileids(),columns = vocab, dtype=float)\n",
    "df = df.fillna(0)"
   ]
  },
  {
   "cell_type": "code",
   "execution_count": 11,
   "metadata": {
    "scrolled": false
   },
   "outputs": [],
   "source": [
    "#doc_word = inaugural.words(inaugural.fileids())\n",
    "for doc in inaugural.fileids():\n",
    "    for word in inaugural.words(doc):\n",
    "        if lancaster.stem(word) in df.columns:\n",
    "            df.loc[doc,lancaster.stem(word)] += 1"
   ]
  },
  {
   "cell_type": "markdown",
   "metadata": {},
   "source": [
    "---\n",
    "### 3. Compute TF-IDF for the document-term matrix ###"
   ]
  },
  {
   "cell_type": "markdown",
   "metadata": {},
   "source": [
    "**3.1. Write a function to compute term frequency (TF) for each document**\n"
   ]
  },
  {
   "cell_type": "code",
   "execution_count": 12,
   "metadata": {},
   "outputs": [],
   "source": [
    "# compute term frequency\n",
    "# inputs: wordvec is a series that contains, for a given doc, \n",
    "#                 the word counts for each term in the vocab\n",
    "#         doclen  is the length of the document\n",
    "# returns: a series with new term-frequencies (raw counts divided by doc length)\n",
    "def computetf(wordvec,doclen):\n",
    "\n",
    "    return  wordvec / doclen;\n",
    "\n",
    "# Testing computetf\n",
    "testing = pd.DataFrame()\n",
    "for index, row in df.iterrows():\n",
    "    newrow = computetf(row,sizedict[index])\n",
    "    testing = testing.append(newrow)"
   ]
  },
  {
   "cell_type": "markdown",
   "metadata": {},
   "source": [
    "**3.2 Write a function to comput inverse document frequency**\n"
   ]
  },
  {
   "cell_type": "code",
   "execution_count": 13,
   "metadata": {},
   "outputs": [],
   "source": [
    "import math \n",
    "\n",
    "def computeidf(df):\n",
    "    n = len(df.index)\n",
    "    idf = {}\n",
    "    for term in df.columns:\n",
    "        count = 0\n",
    "        for index in df.index:\n",
    "            if df.loc[index,term] != 0:\n",
    "                count += 1\n",
    "        idf[term] = math.log(n /count)\n",
    "    return idf\n",
    "\n"
   ]
  },
  {
   "cell_type": "markdown",
   "metadata": {},
   "source": [
    "**Create a new dataframe and populate it with the TF-IDF values for each document-term combination**"
   ]
  },
  {
   "cell_type": "code",
   "execution_count": 14,
   "metadata": {},
   "outputs": [],
   "source": [
    "newdf = pd.DataFrame()\n",
    "\n",
    "idfdict = computeidf(df)\n",
    "\n",
    "cols = df.columns\n",
    "for index, row in df.iterrows():\n",
    "    newrow = computetf(row,sizedict[index])\n",
    "    for c in cols:\n",
    "        newrow[c] = newrow[c]*idfdict[c]\n",
    "    newdf = newdf.append(newrow)"
   ]
  },
  {
   "cell_type": "code",
   "execution_count": 15,
   "metadata": {},
   "outputs": [
    {
     "data": {
      "text/plain": [
       "(58, 4602)"
      ]
     },
     "execution_count": 15,
     "metadata": {},
     "output_type": "execute_result"
    }
   ],
   "source": [
    "newdf.shape"
   ]
  },
  {
   "cell_type": "markdown",
   "metadata": {},
   "source": [
    "---\n",
    "### 4. Using TF-IDF values, find and rank order the 3 closest inaugural addresses to Donald Trump's 2017 address, measured by cosine similarity"
   ]
  },
  {
   "cell_type": "code",
   "execution_count": 16,
   "metadata": {},
   "outputs": [],
   "source": [
    "# President Trump's address is 57"
   ]
  },
  {
   "cell_type": "markdown",
   "metadata": {},
   "source": [
    "**4.1 Create an array called dist that contains the cosine similarity and each of the inaugural addresses**"
   ]
  },
  {
   "cell_type": "code",
   "execution_count": 17,
   "metadata": {},
   "outputs": [],
   "source": [
    "from math import sqrt \n",
    "import numpy as np\n",
    "\n",
    "d1 = newdf.iloc[57,:]\n",
    "sum_d1 = 0\n",
    "dist = {}        \n",
    "\n",
    "\n",
    "for i in d1:\n",
    "    sum_d1 = sum_d1 + pow(i,2)\n",
    "d1_norm = sqrt(sum_d1)\n",
    "\n",
    "for index,row in newdf.iterrows():\n",
    "    d2 = row\n",
    "    sum_d2 = 0\n",
    "    for j in d1:\n",
    "        sum_d2 = sum_d2 + pow(j,2)\n",
    "    d2_norm = sqrt(sum_d2)\n",
    "    dist[index] =(np.dot(d1,d2) / (d1_norm*d2_norm))"
   ]
  },
  {
   "cell_type": "markdown",
   "metadata": {},
   "source": [
    "**4.2 Find the 3 closest associated inaugural address, when measured by cosign similarity"
   ]
  },
  {
   "cell_type": "code",
   "execution_count": 18,
   "metadata": {},
   "outputs": [],
   "source": [
    "sort_dist = sorted(dist.items(),reverse=True,key=lambda item: item[1])"
   ]
  },
  {
   "cell_type": "code",
   "execution_count": 19,
   "metadata": {
    "scrolled": true
   },
   "outputs": [
    {
     "data": {
      "text/plain": [
       "[('2017-Trump.txt', 0.9999999999999992),\n",
       " ('2013-Obama.txt', 0.2073733238682776),\n",
       " ('1993-Clinton.txt', 0.2018806481101519),\n",
       " ('1997-Clinton.txt', 0.17400555565421544),\n",
       " ('1989-Bush.txt', 0.16411052890971806),\n",
       " ('1969-Nixon.txt', 0.1613213553218048),\n",
       " ('2009-Obama.txt', 0.15870041510601035),\n",
       " ('1981-Reagan.txt', 0.14325126155396137),\n",
       " ('2001-Bush.txt', 0.14006640766907785),\n",
       " ('2005-Bush.txt', 0.13547742137997718),\n",
       " ('1973-Nixon.txt', 0.12723528730855857),\n",
       " ('1985-Reagan.txt', 0.12519026729605637),\n",
       " ('1977-Carter.txt', 0.10834524642339469),\n",
       " ('1961-Kennedy.txt', 0.10324052172236514),\n",
       " ('1945-Roosevelt.txt', 0.10085435069129443),\n",
       " ('1793-Washington.txt', 0.09424170913306848),\n",
       " ('1937-Roosevelt.txt', 0.09099213670888447),\n",
       " ('1957-Eisenhower.txt', 0.08759975169573302),\n",
       " ('1965-Johnson.txt', 0.0857191898010488),\n",
       " ('1941-Roosevelt.txt', 0.08443110283782883),\n",
       " ('1913-Wilson.txt', 0.08442230991348655),\n",
       " ('1921-Harding.txt', 0.07294309623151449),\n",
       " ('1953-Eisenhower.txt', 0.07230577565704195),\n",
       " ('1929-Hoover.txt', 0.06136506028908268),\n",
       " ('1869-Grant.txt', 0.06114588072536041),\n",
       " ('1801-Jefferson.txt', 0.060740344505696424),\n",
       " ('1917-Wilson.txt', 0.06061950754529077),\n",
       " ('1933-Roosevelt.txt', 0.06025612941879453),\n",
       " ('1885-Cleveland.txt', 0.06006068848607635),\n",
       " ('1853-Pierce.txt', 0.05849825849415314),\n",
       " ('1905-Roosevelt.txt', 0.05827439545467265),\n",
       " ('1861-Lincoln.txt', 0.05809745927743762),\n",
       " ('1925-Coolidge.txt', 0.0561651202110622),\n",
       " ('1797-Adams.txt', 0.05557481508648163),\n",
       " ('1881-Garfield.txt', 0.05365232093134388),\n",
       " ('1805-Jefferson.txt', 0.0534497126965808),\n",
       " ('1909-Taft.txt', 0.052026337785491414),\n",
       " ('1857-Buchanan.txt', 0.05138115559169726),\n",
       " ('1789-Washington.txt', 0.0511163502850612),\n",
       " ('1949-Truman.txt', 0.05041421522504289),\n",
       " ('1889-Harrison.txt', 0.050074672376777436),\n",
       " ('1845-Polk.txt', 0.046885398344047084),\n",
       " ('1841-Harrison.txt', 0.045833386761588234),\n",
       " ('1897-McKinley.txt', 0.045769812299480225),\n",
       " ('1873-Grant.txt', 0.04434198275618558),\n",
       " ('1825-Adams.txt', 0.04414926158487649),\n",
       " ('1849-Taylor.txt', 0.043451544964799),\n",
       " ('1893-Cleveland.txt', 0.04323960156573705),\n",
       " ('1901-McKinley.txt', 0.042341290206993745),\n",
       " ('1817-Monroe.txt', 0.041791067629569016),\n",
       " ('1837-VanBuren.txt', 0.04160050928229163),\n",
       " ('1865-Lincoln.txt', 0.04147431596020554),\n",
       " ('1833-Jackson.txt', 0.040838171455963794),\n",
       " ('1829-Jackson.txt', 0.04009449531561902),\n",
       " ('1821-Monroe.txt', 0.039114334535005006),\n",
       " ('1813-Madison.txt', 0.037503535447505315),\n",
       " ('1809-Madison.txt', 0.03690714503138855),\n",
       " ('1877-Hayes.txt', 0.03526486606867299)]"
      ]
     },
     "execution_count": 19,
     "metadata": {},
     "output_type": "execute_result"
    }
   ],
   "source": [
    "sort_dist"
   ]
  },
  {
   "cell_type": "markdown",
   "metadata": {},
   "source": [
    "---\n",
    "### 5. Compute the first two principal components of the TF-IDF matrix, and plot each document along each of the PCA components"
   ]
  },
  {
   "cell_type": "code",
   "execution_count": 20,
   "metadata": {},
   "outputs": [],
   "source": [
    "from sklearn.decomposition import PCA\n",
    "import matplotlib.pyplot as plt"
   ]
  },
  {
   "cell_type": "code",
   "execution_count": 21,
   "metadata": {},
   "outputs": [],
   "source": [
    "# PCA\n",
    "pca = PCA(n_components = 2)\n",
    "X = pca.fit_transform(newdf)"
   ]
  },
  {
   "cell_type": "code",
   "execution_count": 22,
   "metadata": {},
   "outputs": [
    {
     "data": {
      "image/png": "[encoded data removed]",
      "text/plain": [
       "<Figure size 432x288 with 1 Axes>"
      ]
     },
     "metadata": {
      "needs_background": "light"
     },
     "output_type": "display_data"
    }
   ],
   "source": [
    "plt.scatter(X[:, 0], X[:, 1], alpha=0.2)\n",
    "plt.axis('equal');\n",
    "for i in range(0,58):\n",
    "    plt.text(X[i,0],X[i,1],inaugural.fileids()[i])"
   ]
  }
 ],
 "metadata": {
  "kernelspec": {
   "display_name": "Python 3",
   "language": "python",
   "name": "python3"
  },
  "language_info": {
   "codemirror_mode": {
    "name": "ipython",
    "version": 3
   },
   "file_extension": ".py",
   "mimetype": "text/x-python",
   "name": "python",
   "nbconvert_exporter": "python",
   "pygments_lexer": "ipython3",
   "version": "3.8.3"
  }
 },
 "nbformat": 4,
 "nbformat_minor": 4
}
